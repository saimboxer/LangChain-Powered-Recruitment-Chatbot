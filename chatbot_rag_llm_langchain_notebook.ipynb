{
 "cells": [
  {
   "cell_type": "markdown",
   "metadata": {},
   "source": [
    "#### Libraries installation"
   ]
  },
  {
   "cell_type": "code",
   "execution_count": 44,
   "metadata": {},
   "outputs": [
    {
     "name": "stdout",
     "output_type": "stream",
     "text": [
      "Requirement already satisfied: sentence_transformers in c:\\users\\saima\\documents\\virtualenvs\\chatbot_rag_env\\lib\\site-packages (3.0.1)\n",
      "Requirement already satisfied: transformers<5.0.0,>=4.34.0 in c:\\users\\saima\\documents\\virtualenvs\\chatbot_rag_env\\lib\\site-packages (from sentence_transformers) (4.43.3)\n",
      "Requirement already satisfied: tqdm in c:\\users\\saima\\documents\\virtualenvs\\chatbot_rag_env\\lib\\site-packages (from sentence_transformers) (4.66.4)\n",
      "Requirement already satisfied: torch>=1.11.0 in c:\\users\\saima\\documents\\virtualenvs\\chatbot_rag_env\\lib\\site-packages (from sentence_transformers) (2.2.1)\n",
      "Requirement already satisfied: numpy in c:\\users\\saima\\documents\\virtualenvs\\chatbot_rag_env\\lib\\site-packages (from sentence_transformers) (1.26.4)\n",
      "Requirement already satisfied: scikit-learn in c:\\users\\saima\\documents\\virtualenvs\\chatbot_rag_env\\lib\\site-packages (from sentence_transformers) (1.5.1)\n",
      "Requirement already satisfied: scipy in c:\\users\\saima\\documents\\virtualenvs\\chatbot_rag_env\\lib\\site-packages (from sentence_transformers) (1.14.0)\n",
      "Requirement already satisfied: huggingface-hub>=0.15.1 in c:\\users\\saima\\documents\\virtualenvs\\chatbot_rag_env\\lib\\site-packages (from sentence_transformers) (0.24.3)\n",
      "Requirement already satisfied: Pillow in c:\\users\\saima\\documents\\virtualenvs\\chatbot_rag_env\\lib\\site-packages (from sentence_transformers) (10.4.0)\n",
      "Requirement already satisfied: filelock in c:\\users\\saima\\documents\\virtualenvs\\chatbot_rag_env\\lib\\site-packages (from huggingface-hub>=0.15.1->sentence_transformers) (3.15.4)\n",
      "Requirement already satisfied: fsspec>=2023.5.0 in c:\\users\\saima\\documents\\virtualenvs\\chatbot_rag_env\\lib\\site-packages (from huggingface-hub>=0.15.1->sentence_transformers) (2024.6.1)\n",
      "Requirement already satisfied: packaging>=20.9 in c:\\users\\saima\\documents\\virtualenvs\\chatbot_rag_env\\lib\\site-packages (from huggingface-hub>=0.15.1->sentence_transformers) (24.1)\n",
      "Requirement already satisfied: pyyaml>=5.1 in c:\\users\\saima\\documents\\virtualenvs\\chatbot_rag_env\\lib\\site-packages (from huggingface-hub>=0.15.1->sentence_transformers) (6.0.1)\n",
      "Requirement already satisfied: requests in c:\\users\\saima\\documents\\virtualenvs\\chatbot_rag_env\\lib\\site-packages (from huggingface-hub>=0.15.1->sentence_transformers) (2.32.3)\n",
      "Requirement already satisfied: typing-extensions>=3.7.4.3 in c:\\users\\saima\\documents\\virtualenvs\\chatbot_rag_env\\lib\\site-packages (from huggingface-hub>=0.15.1->sentence_transformers) (4.12.2)\n",
      "Requirement already satisfied: sympy in c:\\users\\saima\\documents\\virtualenvs\\chatbot_rag_env\\lib\\site-packages (from torch>=1.11.0->sentence_transformers) (1.13.1)\n",
      "Requirement already satisfied: networkx in c:\\users\\saima\\documents\\virtualenvs\\chatbot_rag_env\\lib\\site-packages (from torch>=1.11.0->sentence_transformers) (3.3)\n",
      "Requirement already satisfied: jinja2 in c:\\users\\saima\\documents\\virtualenvs\\chatbot_rag_env\\lib\\site-packages (from torch>=1.11.0->sentence_transformers) (3.1.4)\n",
      "Requirement already satisfied: colorama in c:\\users\\saima\\documents\\virtualenvs\\chatbot_rag_env\\lib\\site-packages (from tqdm->sentence_transformers) (0.4.6)\n",
      "Requirement already satisfied: regex!=2019.12.17 in c:\\users\\saima\\documents\\virtualenvs\\chatbot_rag_env\\lib\\site-packages (from transformers<5.0.0,>=4.34.0->sentence_transformers) (2024.7.24)\n",
      "Requirement already satisfied: safetensors>=0.4.1 in c:\\users\\saima\\documents\\virtualenvs\\chatbot_rag_env\\lib\\site-packages (from transformers<5.0.0,>=4.34.0->sentence_transformers) (0.4.3)\n",
      "Requirement already satisfied: tokenizers<0.20,>=0.19 in c:\\users\\saima\\documents\\virtualenvs\\chatbot_rag_env\\lib\\site-packages (from transformers<5.0.0,>=4.34.0->sentence_transformers) (0.19.1)\n",
      "Requirement already satisfied: joblib>=1.2.0 in c:\\users\\saima\\documents\\virtualenvs\\chatbot_rag_env\\lib\\site-packages (from scikit-learn->sentence_transformers) (1.4.2)\n",
      "Requirement already satisfied: threadpoolctl>=3.1.0 in c:\\users\\saima\\documents\\virtualenvs\\chatbot_rag_env\\lib\\site-packages (from scikit-learn->sentence_transformers) (3.5.0)\n",
      "Requirement already satisfied: MarkupSafe>=2.0 in c:\\users\\saima\\documents\\virtualenvs\\chatbot_rag_env\\lib\\site-packages (from jinja2->torch>=1.11.0->sentence_transformers) (2.1.5)\n",
      "Requirement already satisfied: charset-normalizer<4,>=2 in c:\\users\\saima\\documents\\virtualenvs\\chatbot_rag_env\\lib\\site-packages (from requests->huggingface-hub>=0.15.1->sentence_transformers) (3.3.2)\n",
      "Requirement already satisfied: idna<4,>=2.5 in c:\\users\\saima\\documents\\virtualenvs\\chatbot_rag_env\\lib\\site-packages (from requests->huggingface-hub>=0.15.1->sentence_transformers) (3.7)\n",
      "Requirement already satisfied: urllib3<3,>=1.21.1 in c:\\users\\saima\\documents\\virtualenvs\\chatbot_rag_env\\lib\\site-packages (from requests->huggingface-hub>=0.15.1->sentence_transformers) (2.2.2)\n",
      "Requirement already satisfied: certifi>=2017.4.17 in c:\\users\\saima\\documents\\virtualenvs\\chatbot_rag_env\\lib\\site-packages (from requests->huggingface-hub>=0.15.1->sentence_transformers) (2024.7.4)\n",
      "Requirement already satisfied: mpmath<1.4,>=1.1.0 in c:\\users\\saima\\documents\\virtualenvs\\chatbot_rag_env\\lib\\site-packages (from sympy->torch>=1.11.0->sentence_transformers) (1.3.0)\n"
     ]
    },
    {
     "name": "stderr",
     "output_type": "stream",
     "text": [
      "\n",
      "[notice] A new release of pip is available: 23.1.2 -> 24.2\n",
      "[notice] To update, run: python.exe -m pip install --upgrade pip\n"
     ]
    },
    {
     "name": "stdout",
     "output_type": "stream",
     "text": [
      "Requirement already satisfied: pypdf in c:\\users\\saima\\documents\\virtualenvs\\chatbot_rag_env\\lib\\site-packages (4.3.1)\n"
     ]
    },
    {
     "name": "stderr",
     "output_type": "stream",
     "text": [
      "\n",
      "[notice] A new release of pip is available: 23.1.2 -> 24.2\n",
      "[notice] To update, run: python.exe -m pip install --upgrade pip\n"
     ]
    },
    {
     "name": "stdout",
     "output_type": "stream",
     "text": [
      "Requirement already satisfied: faiss-cpu in c:\\users\\saima\\documents\\virtualenvs\\chatbot_rag_env\\lib\\site-packages (1.8.0.post1)\n",
      "Requirement already satisfied: numpy<2.0,>=1.0 in c:\\users\\saima\\documents\\virtualenvs\\chatbot_rag_env\\lib\\site-packages (from faiss-cpu) (1.26.4)\n",
      "Requirement already satisfied: packaging in c:\\users\\saima\\documents\\virtualenvs\\chatbot_rag_env\\lib\\site-packages (from faiss-cpu) (24.1)\n"
     ]
    },
    {
     "name": "stderr",
     "output_type": "stream",
     "text": [
      "\n",
      "[notice] A new release of pip is available: 23.1.2 -> 24.2\n",
      "[notice] To update, run: python.exe -m pip install --upgrade pip\n"
     ]
    },
    {
     "name": "stdout",
     "output_type": "stream",
     "text": [
      "Requirement already satisfied: langchain in c:\\users\\saima\\documents\\virtualenvs\\chatbot_rag_env\\lib\\site-packages (0.2.11)\n",
      "Requirement already satisfied: PyYAML>=5.3 in c:\\users\\saima\\documents\\virtualenvs\\chatbot_rag_env\\lib\\site-packages (from langchain) (6.0.1)\n",
      "Requirement already satisfied: SQLAlchemy<3,>=1.4 in c:\\users\\saima\\documents\\virtualenvs\\chatbot_rag_env\\lib\\site-packages (from langchain) (2.0.31)\n",
      "Requirement already satisfied: aiohttp<4.0.0,>=3.8.3 in c:\\users\\saima\\documents\\virtualenvs\\chatbot_rag_env\\lib\\site-packages (from langchain) (3.9.5)\n",
      "Requirement already satisfied: langchain-core<0.3.0,>=0.2.23 in c:\\users\\saima\\documents\\virtualenvs\\chatbot_rag_env\\lib\\site-packages (from langchain) (0.2.24)\n",
      "Requirement already satisfied: langchain-text-splitters<0.3.0,>=0.2.0 in c:\\users\\saima\\documents\\virtualenvs\\chatbot_rag_env\\lib\\site-packages (from langchain) (0.2.2)\n",
      "Requirement already satisfied: langsmith<0.2.0,>=0.1.17 in c:\\users\\saima\\documents\\virtualenvs\\chatbot_rag_env\\lib\\site-packages (from langchain) (0.1.93)\n",
      "Requirement already satisfied: numpy<2,>=1 in c:\\users\\saima\\documents\\virtualenvs\\chatbot_rag_env\\lib\\site-packages (from langchain) (1.26.4)\n",
      "Requirement already satisfied: pydantic<3,>=1 in c:\\users\\saima\\documents\\virtualenvs\\chatbot_rag_env\\lib\\site-packages (from langchain) (2.8.2)\n",
      "Requirement already satisfied: requests<3,>=2 in c:\\users\\saima\\documents\\virtualenvs\\chatbot_rag_env\\lib\\site-packages (from langchain) (2.32.3)\n",
      "Requirement already satisfied: tenacity!=8.4.0,<9.0.0,>=8.1.0 in c:\\users\\saima\\documents\\virtualenvs\\chatbot_rag_env\\lib\\site-packages (from langchain) (8.5.0)\n",
      "Requirement already satisfied: aiosignal>=1.1.2 in c:\\users\\saima\\documents\\virtualenvs\\chatbot_rag_env\\lib\\site-packages (from aiohttp<4.0.0,>=3.8.3->langchain) (1.3.1)\n",
      "Requirement already satisfied: attrs>=17.3.0 in c:\\users\\saima\\documents\\virtualenvs\\chatbot_rag_env\\lib\\site-packages (from aiohttp<4.0.0,>=3.8.3->langchain) (23.2.0)\n",
      "Requirement already satisfied: frozenlist>=1.1.1 in c:\\users\\saima\\documents\\virtualenvs\\chatbot_rag_env\\lib\\site-packages (from aiohttp<4.0.0,>=3.8.3->langchain) (1.4.1)\n",
      "Requirement already satisfied: multidict<7.0,>=4.5 in c:\\users\\saima\\documents\\virtualenvs\\chatbot_rag_env\\lib\\site-packages (from aiohttp<4.0.0,>=3.8.3->langchain) (6.0.5)\n",
      "Requirement already satisfied: yarl<2.0,>=1.0 in c:\\users\\saima\\documents\\virtualenvs\\chatbot_rag_env\\lib\\site-packages (from aiohttp<4.0.0,>=3.8.3->langchain) (1.9.4)\n",
      "Requirement already satisfied: jsonpatch<2.0,>=1.33 in c:\\users\\saima\\documents\\virtualenvs\\chatbot_rag_env\\lib\\site-packages (from langchain-core<0.3.0,>=0.2.23->langchain) (1.33)\n",
      "Requirement already satisfied: packaging<25,>=23.2 in c:\\users\\saima\\documents\\virtualenvs\\chatbot_rag_env\\lib\\site-packages (from langchain-core<0.3.0,>=0.2.23->langchain) (24.1)\n",
      "Requirement already satisfied: orjson<4.0.0,>=3.9.14 in c:\\users\\saima\\documents\\virtualenvs\\chatbot_rag_env\\lib\\site-packages (from langsmith<0.2.0,>=0.1.17->langchain) (3.10.6)\n",
      "Requirement already satisfied: annotated-types>=0.4.0 in c:\\users\\saima\\documents\\virtualenvs\\chatbot_rag_env\\lib\\site-packages (from pydantic<3,>=1->langchain) (0.7.0)\n",
      "Requirement already satisfied: pydantic-core==2.20.1 in c:\\users\\saima\\documents\\virtualenvs\\chatbot_rag_env\\lib\\site-packages (from pydantic<3,>=1->langchain) (2.20.1)\n",
      "Requirement already satisfied: typing-extensions>=4.6.1 in c:\\users\\saima\\documents\\virtualenvs\\chatbot_rag_env\\lib\\site-packages (from pydantic<3,>=1->langchain) (4.12.2)\n",
      "Requirement already satisfied: charset-normalizer<4,>=2 in c:\\users\\saima\\documents\\virtualenvs\\chatbot_rag_env\\lib\\site-packages (from requests<3,>=2->langchain) (3.3.2)\n",
      "Requirement already satisfied: idna<4,>=2.5 in c:\\users\\saima\\documents\\virtualenvs\\chatbot_rag_env\\lib\\site-packages (from requests<3,>=2->langchain) (3.7)\n",
      "Requirement already satisfied: urllib3<3,>=1.21.1 in c:\\users\\saima\\documents\\virtualenvs\\chatbot_rag_env\\lib\\site-packages (from requests<3,>=2->langchain) (2.2.2)\n",
      "Requirement already satisfied: certifi>=2017.4.17 in c:\\users\\saima\\documents\\virtualenvs\\chatbot_rag_env\\lib\\site-packages (from requests<3,>=2->langchain) (2024.7.4)\n",
      "Requirement already satisfied: greenlet!=0.4.17 in c:\\users\\saima\\documents\\virtualenvs\\chatbot_rag_env\\lib\\site-packages (from SQLAlchemy<3,>=1.4->langchain) (3.0.3)\n",
      "Requirement already satisfied: jsonpointer>=1.9 in c:\\users\\saima\\documents\\virtualenvs\\chatbot_rag_env\\lib\\site-packages (from jsonpatch<2.0,>=1.33->langchain-core<0.3.0,>=0.2.23->langchain) (3.0.0)\n"
     ]
    },
    {
     "name": "stderr",
     "output_type": "stream",
     "text": [
      "\n",
      "[notice] A new release of pip is available: 23.1.2 -> 24.2\n",
      "[notice] To update, run: python.exe -m pip install --upgrade pip\n"
     ]
    },
    {
     "name": "stdout",
     "output_type": "stream",
     "text": [
      "Requirement already satisfied: langchain-openai in c:\\users\\saima\\documents\\virtualenvs\\chatbot_rag_env\\lib\\site-packages (0.1.19)\n",
      "Requirement already satisfied: langchain-core<0.3.0,>=0.2.24 in c:\\users\\saima\\documents\\virtualenvs\\chatbot_rag_env\\lib\\site-packages (from langchain-openai) (0.2.24)\n",
      "Requirement already satisfied: openai<2.0.0,>=1.32.0 in c:\\users\\saima\\documents\\virtualenvs\\chatbot_rag_env\\lib\\site-packages (from langchain-openai) (1.37.1)\n",
      "Requirement already satisfied: tiktoken<1,>=0.7 in c:\\users\\saima\\documents\\virtualenvs\\chatbot_rag_env\\lib\\site-packages (from langchain-openai) (0.7.0)\n",
      "Requirement already satisfied: PyYAML>=5.3 in c:\\users\\saima\\documents\\virtualenvs\\chatbot_rag_env\\lib\\site-packages (from langchain-core<0.3.0,>=0.2.24->langchain-openai) (6.0.1)\n",
      "Requirement already satisfied: jsonpatch<2.0,>=1.33 in c:\\users\\saima\\documents\\virtualenvs\\chatbot_rag_env\\lib\\site-packages (from langchain-core<0.3.0,>=0.2.24->langchain-openai) (1.33)\n",
      "Requirement already satisfied: langsmith<0.2.0,>=0.1.75 in c:\\users\\saima\\documents\\virtualenvs\\chatbot_rag_env\\lib\\site-packages (from langchain-core<0.3.0,>=0.2.24->langchain-openai) (0.1.93)\n",
      "Requirement already satisfied: packaging<25,>=23.2 in c:\\users\\saima\\documents\\virtualenvs\\chatbot_rag_env\\lib\\site-packages (from langchain-core<0.3.0,>=0.2.24->langchain-openai) (24.1)\n",
      "Requirement already satisfied: pydantic<3,>=1 in c:\\users\\saima\\documents\\virtualenvs\\chatbot_rag_env\\lib\\site-packages (from langchain-core<0.3.0,>=0.2.24->langchain-openai) (2.8.2)\n",
      "Requirement already satisfied: tenacity!=8.4.0,<9.0.0,>=8.1.0 in c:\\users\\saima\\documents\\virtualenvs\\chatbot_rag_env\\lib\\site-packages (from langchain-core<0.3.0,>=0.2.24->langchain-openai) (8.5.0)\n",
      "Requirement already satisfied: anyio<5,>=3.5.0 in c:\\users\\saima\\documents\\virtualenvs\\chatbot_rag_env\\lib\\site-packages (from openai<2.0.0,>=1.32.0->langchain-openai) (4.4.0)\n",
      "Requirement already satisfied: distro<2,>=1.7.0 in c:\\users\\saima\\documents\\virtualenvs\\chatbot_rag_env\\lib\\site-packages (from openai<2.0.0,>=1.32.0->langchain-openai) (1.9.0)\n",
      "Requirement already satisfied: httpx<1,>=0.23.0 in c:\\users\\saima\\documents\\virtualenvs\\chatbot_rag_env\\lib\\site-packages (from openai<2.0.0,>=1.32.0->langchain-openai) (0.27.0)\n",
      "Requirement already satisfied: sniffio in c:\\users\\saima\\documents\\virtualenvs\\chatbot_rag_env\\lib\\site-packages (from openai<2.0.0,>=1.32.0->langchain-openai) (1.3.1)\n",
      "Requirement already satisfied: tqdm>4 in c:\\users\\saima\\documents\\virtualenvs\\chatbot_rag_env\\lib\\site-packages (from openai<2.0.0,>=1.32.0->langchain-openai) (4.66.4)\n",
      "Requirement already satisfied: typing-extensions<5,>=4.7 in c:\\users\\saima\\documents\\virtualenvs\\chatbot_rag_env\\lib\\site-packages (from openai<2.0.0,>=1.32.0->langchain-openai) (4.12.2)\n",
      "Requirement already satisfied: regex>=2022.1.18 in c:\\users\\saima\\documents\\virtualenvs\\chatbot_rag_env\\lib\\site-packages (from tiktoken<1,>=0.7->langchain-openai) (2024.7.24)\n",
      "Requirement already satisfied: requests>=2.26.0 in c:\\users\\saima\\documents\\virtualenvs\\chatbot_rag_env\\lib\\site-packages (from tiktoken<1,>=0.7->langchain-openai) (2.32.3)\n",
      "Requirement already satisfied: idna>=2.8 in c:\\users\\saima\\documents\\virtualenvs\\chatbot_rag_env\\lib\\site-packages (from anyio<5,>=3.5.0->openai<2.0.0,>=1.32.0->langchain-openai) (3.7)\n",
      "Requirement already satisfied: certifi in c:\\users\\saima\\documents\\virtualenvs\\chatbot_rag_env\\lib\\site-packages (from httpx<1,>=0.23.0->openai<2.0.0,>=1.32.0->langchain-openai) (2024.7.4)\n",
      "Requirement already satisfied: httpcore==1.* in c:\\users\\saima\\documents\\virtualenvs\\chatbot_rag_env\\lib\\site-packages (from httpx<1,>=0.23.0->openai<2.0.0,>=1.32.0->langchain-openai) (1.0.5)\n",
      "Requirement already satisfied: h11<0.15,>=0.13 in c:\\users\\saima\\documents\\virtualenvs\\chatbot_rag_env\\lib\\site-packages (from httpcore==1.*->httpx<1,>=0.23.0->openai<2.0.0,>=1.32.0->langchain-openai) (0.14.0)\n",
      "Requirement already satisfied: jsonpointer>=1.9 in c:\\users\\saima\\documents\\virtualenvs\\chatbot_rag_env\\lib\\site-packages (from jsonpatch<2.0,>=1.33->langchain-core<0.3.0,>=0.2.24->langchain-openai) (3.0.0)\n",
      "Requirement already satisfied: orjson<4.0.0,>=3.9.14 in c:\\users\\saima\\documents\\virtualenvs\\chatbot_rag_env\\lib\\site-packages (from langsmith<0.2.0,>=0.1.75->langchain-core<0.3.0,>=0.2.24->langchain-openai) (3.10.6)\n",
      "Requirement already satisfied: annotated-types>=0.4.0 in c:\\users\\saima\\documents\\virtualenvs\\chatbot_rag_env\\lib\\site-packages (from pydantic<3,>=1->langchain-core<0.3.0,>=0.2.24->langchain-openai) (0.7.0)\n",
      "Requirement already satisfied: pydantic-core==2.20.1 in c:\\users\\saima\\documents\\virtualenvs\\chatbot_rag_env\\lib\\site-packages (from pydantic<3,>=1->langchain-core<0.3.0,>=0.2.24->langchain-openai) (2.20.1)\n",
      "Requirement already satisfied: charset-normalizer<4,>=2 in c:\\users\\saima\\documents\\virtualenvs\\chatbot_rag_env\\lib\\site-packages (from requests>=2.26.0->tiktoken<1,>=0.7->langchain-openai) (3.3.2)\n",
      "Requirement already satisfied: urllib3<3,>=1.21.1 in c:\\users\\saima\\documents\\virtualenvs\\chatbot_rag_env\\lib\\site-packages (from requests>=2.26.0->tiktoken<1,>=0.7->langchain-openai) (2.2.2)\n",
      "Requirement already satisfied: colorama in c:\\users\\saima\\documents\\virtualenvs\\chatbot_rag_env\\lib\\site-packages (from tqdm>4->openai<2.0.0,>=1.32.0->langchain-openai) (0.4.6)\n"
     ]
    },
    {
     "name": "stderr",
     "output_type": "stream",
     "text": [
      "\n",
      "[notice] A new release of pip is available: 23.1.2 -> 24.2\n",
      "[notice] To update, run: python.exe -m pip install --upgrade pip\n"
     ]
    },
    {
     "name": "stdout",
     "output_type": "stream",
     "text": [
      "Requirement already satisfied: langchain-community in c:\\users\\saima\\documents\\virtualenvs\\chatbot_rag_env\\lib\\site-packages (0.2.10)\n",
      "Requirement already satisfied: langchain-core in c:\\users\\saima\\documents\\virtualenvs\\chatbot_rag_env\\lib\\site-packages (0.2.24)\n",
      "Requirement already satisfied: PyYAML>=5.3 in c:\\users\\saima\\documents\\virtualenvs\\chatbot_rag_env\\lib\\site-packages (from langchain-community) (6.0.1)\n",
      "Requirement already satisfied: SQLAlchemy<3,>=1.4 in c:\\users\\saima\\documents\\virtualenvs\\chatbot_rag_env\\lib\\site-packages (from langchain-community) (2.0.31)\n",
      "Requirement already satisfied: aiohttp<4.0.0,>=3.8.3 in c:\\users\\saima\\documents\\virtualenvs\\chatbot_rag_env\\lib\\site-packages (from langchain-community) (3.9.5)\n",
      "Requirement already satisfied: dataclasses-json<0.7,>=0.5.7 in c:\\users\\saima\\documents\\virtualenvs\\chatbot_rag_env\\lib\\site-packages (from langchain-community) (0.6.7)\n",
      "Requirement already satisfied: langchain<0.3.0,>=0.2.9 in c:\\users\\saima\\documents\\virtualenvs\\chatbot_rag_env\\lib\\site-packages (from langchain-community) (0.2.11)\n",
      "Requirement already satisfied: langsmith<0.2.0,>=0.1.0 in c:\\users\\saima\\documents\\virtualenvs\\chatbot_rag_env\\lib\\site-packages (from langchain-community) (0.1.93)\n",
      "Requirement already satisfied: numpy<2,>=1 in c:\\users\\saima\\documents\\virtualenvs\\chatbot_rag_env\\lib\\site-packages (from langchain-community) (1.26.4)\n",
      "Requirement already satisfied: requests<3,>=2 in c:\\users\\saima\\documents\\virtualenvs\\chatbot_rag_env\\lib\\site-packages (from langchain-community) (2.32.3)\n",
      "Requirement already satisfied: tenacity!=8.4.0,<9.0.0,>=8.1.0 in c:\\users\\saima\\documents\\virtualenvs\\chatbot_rag_env\\lib\\site-packages (from langchain-community) (8.5.0)\n",
      "Requirement already satisfied: jsonpatch<2.0,>=1.33 in c:\\users\\saima\\documents\\virtualenvs\\chatbot_rag_env\\lib\\site-packages (from langchain-core) (1.33)\n",
      "Requirement already satisfied: packaging<25,>=23.2 in c:\\users\\saima\\documents\\virtualenvs\\chatbot_rag_env\\lib\\site-packages (from langchain-core) (24.1)\n",
      "Requirement already satisfied: pydantic<3,>=1 in c:\\users\\saima\\documents\\virtualenvs\\chatbot_rag_env\\lib\\site-packages (from langchain-core) (2.8.2)\n",
      "Requirement already satisfied: aiosignal>=1.1.2 in c:\\users\\saima\\documents\\virtualenvs\\chatbot_rag_env\\lib\\site-packages (from aiohttp<4.0.0,>=3.8.3->langchain-community) (1.3.1)\n",
      "Requirement already satisfied: attrs>=17.3.0 in c:\\users\\saima\\documents\\virtualenvs\\chatbot_rag_env\\lib\\site-packages (from aiohttp<4.0.0,>=3.8.3->langchain-community) (23.2.0)\n",
      "Requirement already satisfied: frozenlist>=1.1.1 in c:\\users\\saima\\documents\\virtualenvs\\chatbot_rag_env\\lib\\site-packages (from aiohttp<4.0.0,>=3.8.3->langchain-community) (1.4.1)\n",
      "Requirement already satisfied: multidict<7.0,>=4.5 in c:\\users\\saima\\documents\\virtualenvs\\chatbot_rag_env\\lib\\site-packages (from aiohttp<4.0.0,>=3.8.3->langchain-community) (6.0.5)\n",
      "Requirement already satisfied: yarl<2.0,>=1.0 in c:\\users\\saima\\documents\\virtualenvs\\chatbot_rag_env\\lib\\site-packages (from aiohttp<4.0.0,>=3.8.3->langchain-community) (1.9.4)\n",
      "Requirement already satisfied: marshmallow<4.0.0,>=3.18.0 in c:\\users\\saima\\documents\\virtualenvs\\chatbot_rag_env\\lib\\site-packages (from dataclasses-json<0.7,>=0.5.7->langchain-community) (3.21.3)\n",
      "Requirement already satisfied: typing-inspect<1,>=0.4.0 in c:\\users\\saima\\documents\\virtualenvs\\chatbot_rag_env\\lib\\site-packages (from dataclasses-json<0.7,>=0.5.7->langchain-community) (0.9.0)\n",
      "Requirement already satisfied: jsonpointer>=1.9 in c:\\users\\saima\\documents\\virtualenvs\\chatbot_rag_env\\lib\\site-packages (from jsonpatch<2.0,>=1.33->langchain-core) (3.0.0)\n",
      "Requirement already satisfied: langchain-text-splitters<0.3.0,>=0.2.0 in c:\\users\\saima\\documents\\virtualenvs\\chatbot_rag_env\\lib\\site-packages (from langchain<0.3.0,>=0.2.9->langchain-community) (0.2.2)\n",
      "Requirement already satisfied: orjson<4.0.0,>=3.9.14 in c:\\users\\saima\\documents\\virtualenvs\\chatbot_rag_env\\lib\\site-packages (from langsmith<0.2.0,>=0.1.0->langchain-community) (3.10.6)\n",
      "Requirement already satisfied: annotated-types>=0.4.0 in c:\\users\\saima\\documents\\virtualenvs\\chatbot_rag_env\\lib\\site-packages (from pydantic<3,>=1->langchain-core) (0.7.0)\n",
      "Requirement already satisfied: pydantic-core==2.20.1 in c:\\users\\saima\\documents\\virtualenvs\\chatbot_rag_env\\lib\\site-packages (from pydantic<3,>=1->langchain-core) (2.20.1)\n",
      "Requirement already satisfied: typing-extensions>=4.6.1 in c:\\users\\saima\\documents\\virtualenvs\\chatbot_rag_env\\lib\\site-packages (from pydantic<3,>=1->langchain-core) (4.12.2)\n",
      "Requirement already satisfied: charset-normalizer<4,>=2 in c:\\users\\saima\\documents\\virtualenvs\\chatbot_rag_env\\lib\\site-packages (from requests<3,>=2->langchain-community) (3.3.2)\n",
      "Requirement already satisfied: idna<4,>=2.5 in c:\\users\\saima\\documents\\virtualenvs\\chatbot_rag_env\\lib\\site-packages (from requests<3,>=2->langchain-community) (3.7)\n",
      "Requirement already satisfied: urllib3<3,>=1.21.1 in c:\\users\\saima\\documents\\virtualenvs\\chatbot_rag_env\\lib\\site-packages (from requests<3,>=2->langchain-community) (2.2.2)\n",
      "Requirement already satisfied: certifi>=2017.4.17 in c:\\users\\saima\\documents\\virtualenvs\\chatbot_rag_env\\lib\\site-packages (from requests<3,>=2->langchain-community) (2024.7.4)\n",
      "Requirement already satisfied: greenlet!=0.4.17 in c:\\users\\saima\\documents\\virtualenvs\\chatbot_rag_env\\lib\\site-packages (from SQLAlchemy<3,>=1.4->langchain-community) (3.0.3)\n",
      "Requirement already satisfied: mypy-extensions>=0.3.0 in c:\\users\\saima\\documents\\virtualenvs\\chatbot_rag_env\\lib\\site-packages (from typing-inspect<1,>=0.4.0->dataclasses-json<0.7,>=0.5.7->langchain-community) (1.0.0)\n"
     ]
    },
    {
     "name": "stderr",
     "output_type": "stream",
     "text": [
      "\n",
      "[notice] A new release of pip is available: 23.1.2 -> 24.2\n",
      "[notice] To update, run: python.exe -m pip install --upgrade pip\n"
     ]
    }
   ],
   "source": [
    "# Install the sentence_transformers library for state-of-the-art sentence embeddings\n",
    "!pip install sentence_transformers\n",
    "\n",
    "# Install the pypdf library to handle PDF file reading and manipulation\n",
    "!pip install pypdf\n",
    "\n",
    "# Install faiss-gpu for efficient similarity search and clustering with GPUs\n",
    "# !pip install faiss-gpu\n",
    "# Install the FAISS library optimized for CPU usage\n",
    "!pip install faiss-cpu\n",
    "\n",
    "# Install langchain, a framework for developing applications with large language models\n",
    "!pip install langchain\n",
    "\n",
    "# Install langchain-openai, which provides OpenAI integration for LangChain\n",
    "!pip install langchain-openai\n",
    "\n",
    "# langchain-community: Includes additional community-contributed modules for LangChain, such as document loaders.\n",
    "# langchain-core: The core LangChain library required for foundational functionality.\n",
    "!pip install langchain-community langchain-core"
   ]
  },
  {
   "cell_type": "markdown",
   "metadata": {},
   "source": [
    "#### Importing Necessary Libraries"
   ]
  },
  {
   "cell_type": "code",
   "execution_count": 20,
   "metadata": {},
   "outputs": [],
   "source": [
    "# Import the PyPDFLoader for loading PDF documents\n",
    "from langchain_community.document_loaders import PyPDFLoader\n",
    "\n",
    "# Import the Document schema for structuring document data\n",
    "from langchain.schema import Document\n",
    "\n",
    "# Import the RecursiveCharacterTextSplitter for splitting text into chunks\n",
    "from langchain.text_splitter import RecursiveCharacterTextSplitter\n",
    "\n",
    "# Import the HuggingFaceEmbeddings for generating text embeddings\n",
    "from langchain.embeddings import HuggingFaceEmbeddings\n",
    "\n",
    "# Import the FAISS vector store for storing and querying embeddings\n",
    "from langchain.vectorstores import FAISS\n",
    "\n",
    "# Import the ChatOpenAI model for generating conversational responses from OpenAI\n",
    "from langchain.chat_models import ChatOpenAI\n",
    "\n",
    "# Import function to create a chain that combines documents using a \"stuff\" approach\n",
    "from langchain.chains.combine_documents import create_stuff_documents_chain\n",
    "\n",
    "# Import the ChatPromptTemplate for formatting prompts in the chat model\n",
    "from langchain_core.prompts import ChatPromptTemplate\n",
    "\n",
    "# Import the function to create a retrieval-based document chain\n",
    "from langchain.chains import create_retrieval_chain\n",
    "\n",
    "# # Import the os module to set environment variables for OpenAI API key\n",
    "# import os\n",
    "\n",
    "# # Set the OpenAI API key for authentication\n",
    "# os.environ[\"OPENAI_API_KEY\"] = \"Your-OpenAI-API-Key\"\n"
   ]
  },
  {
   "cell_type": "markdown",
   "metadata": {},
   "source": [
    "#### Load PDF"
   ]
  },
  {
   "cell_type": "code",
   "execution_count": 3,
   "metadata": {},
   "outputs": [],
   "source": [
    "# Specify the path to your PDF file\n",
    "pdf_path = r\"C:\\F\\ml_projexts\\chatbot_rag_llm_langchain\\content\\SaimAhmed_BI.pdf\"\n",
    "\n",
    "# Load PDF documents using the PyPDFLoader\n",
    "\n",
    "# Create a loader instance with the specified path\n",
    "loader = PyPDFLoader(pdf_path)\n",
    "\n",
    "# Load the documents from the PDF\n",
    "documents = loader.load()"
   ]
  },
  {
   "cell_type": "code",
   "execution_count": 4,
   "metadata": {},
   "outputs": [
    {
     "data": {
      "text/plain": [
       "[Document(metadata={'source': 'C:\\\\F\\\\ml_projexts\\\\chatbot_rag_llm_langchain\\\\content\\\\SaimAhmed_BI.pdf', 'page': 0}, page_content=\"SAIM\\nAHMED\\nSQL\\nDEVELOPER\\nAddress:\\nAm\\nEhrenberg\\n6,\\nilmenau,\\nThüringen\\nEmail:\\nsaim.ahmed92@hotmail.com\\nPhone:\\n+4915737811565\\nGithub:\\nhttps://github.com/saimboxer\\nProfessional\\nProfile\\nDedicated\\nsoftware\\nengineer\\nwith\\n3\\nyears\\nof\\nexperience\\nspecializing\\nin\\ndatabase\\ndesign,\\nETL\\nprocesses,\\nand\\ndata\\nanalysis.\\nProficient\\nin\\nMicrosoft\\nPower\\nBI,\\nTableau\\nand\\nQlikView,\\nwith\\na\\nsolid\\nfoundation\\nin\\ndata\\nvisualization,\\ndata\\nwarehousing,\\nand\\nquery\\noptimization.\\nEager\\nto\\nleverage\\nmy\\nskills\\nin\\na\\nwork\\nstudent\\nposition\\nto\\ncontribute\\nto\\ndata-driven\\ndecision-making\\nprocesses.\\nWork\\nHistory\\nSoftware\\nEngineer\\nData\\nCheck\\nLimited\\n●\\nDeveloped\\nan\\nend-to-end\\nsolution\\nto\\nanalyze\\nfinancial\\nperformance\\nacross\\nthe\\ncompany's\\ndiverse\\nportfolio,\\ncreating\\nvisualizations\\nwith\\nPower\\nBI.\\n●\\nImproved\\ndata\\naccessibility\\nfor\\nstakeholders\\nby\\ncreating\\nand\\nmanaging\\ninteractive\\nPower\\nBI\\ndashboards\\nthat\\nvisualize\\ncritical\\nmetrics\\nand\\nKPIs,\\nfacilitating\\ndata-driven\\nstrategic\\nplanning.\\n●\\nMaintained\\nETL\\nprocesses\\nand\\nauthored\\ncomplex\\nSQL\\nqueries\\nto\\nsupport\\nthe\\nbusiness\\nteam\\nand\\nvarious\\ndepartments.\\n●\\nBuilt\\nnew\\ndata\\npipelines\\nand\\nimplemented\\ndata\\nquality\\nchecks\\nto\\nenhance\\nand\\nextend\\nthe\\ncapabilities\\nof\\nexisting\\nanalytics\\nsolutions.\\n●\\nAutomated\\nreporting\\nthrough\\nPython,\\nsaving\\nover\\n30\\nhours\\nof\\nweekly\\nreporting\\ntime\\nfor\\nthe\\ndepartment.\\n●\\nCreated\\nreports\\ntailored\\nto\\nend-user\\nrequirements\\nusing\\nCrystal\\nReports\\nand\\nSSRS\\nto\\ndevelop\\ninnovative\\nsolutions.\"),\n",
       " Document(metadata={'source': 'C:\\\\F\\\\ml_projexts\\\\chatbot_rag_llm_langchain\\\\content\\\\SaimAhmed_BI.pdf', 'page': 1}, page_content='Software\\nDeveloper\\nSoftware\\nChannel\\n●\\nDeveloped\\nover\\n20\\ndata\\nand\\nreporting\\nprocedures\\nfrom\\nscratch\\nusing\\nSQL\\nand\\nPower\\nBI/Tableau/Excel,\\ndelivering\\nreal-time\\ninsights\\ninto\\nkey\\nperformance\\nindicators\\n(KPIs)\\nacross\\nvarious\\nbusiness\\nfunctions.\\n●\\nWorked\\nclosely\\nwith\\ndiverse\\nteams,\\nincluding\\nbusiness\\nstakeholders\\nand\\ndata\\nengineers,\\nto\\ndevelop\\noptimized\\nETL\\nworkflows\\nand\\nensure\\nadherence\\nto\\ndata\\nquality\\nbenchmarks.\\n●\\nPerformed\\nmodifications\\nto\\nexisting\\nsoftware\\nsystems\\nto\\nrectify\\nerrors,\\nenhance\\ninterfaces,\\nand\\noptimize\\nperformance.\\n●\\nMaintained\\nongoing\\ncommunication\\nwith\\nclients\\nto\\nprovide\\nupdates\\non\\nproject\\nstatus,\\ndiscuss\\nproposals,\\naddress\\ntechnical\\nissues,\\nand\\nfacilitate\\nnew\\ndevelopment\\ninitiatives.\\nEducation\\nMaster\\nin\\nComputer\\nResearch\\nand\\nSystem\\nEngineering \\nTechnische\\nUniversität\\nIlmenau,\\nGermany\\nAdditional\\nSkills\\n●\\nTableau\\n,\\nMicrosoft\\nPower\\nBI\\n,\\nQlik\\n,\\nCrystal\\nReports\\n,\\nIReport\\n,\\nSSRS\\n,\\nJasper\\nReport\\n●\\nOracle\\nRDBMS\\n,\\nMicrosoft\\nSQL\\nServer\\n,\\nOracle\\nAPEX\\n,\\nOracle\\nForms\\n,\\nOracle\\nReports\\n,\\nPL/SQL\\n●\\nHTML\\n,\\nCSS\\n,\\nJavaScript\\n●\\nDocker\\n,\\nGit\\n,\\nTeam\\nFoundation\\nServer\\n(TFS),\\nJIRA\\n●\\nEnglish\\n(Fluent,\\nC1),\\nGerman\\n(A1)')]"
      ]
     },
     "execution_count": 4,
     "metadata": {},
     "output_type": "execute_result"
    }
   ],
   "source": [
    "documents"
   ]
  },
  {
   "cell_type": "code",
   "execution_count": 5,
   "metadata": {},
   "outputs": [],
   "source": [
    "def clean_text(text):\n",
    "    # Remove unwanted newline characters and bullet points\n",
    "    text = text.replace('\\n', ' ')\n",
    "    text = text.replace('● ', '')\n",
    "    return text"
   ]
  },
  {
   "cell_type": "markdown",
   "metadata": {},
   "source": [
    "#### Preprocess data"
   ]
  },
  {
   "cell_type": "code",
   "execution_count": 6,
   "metadata": {},
   "outputs": [],
   "source": [
    "# Clean the text of each document\n",
    "cleaned_documents = [Document(metadata=doc.metadata, page_content=clean_text(doc.page_content)) for doc in documents]"
   ]
  },
  {
   "cell_type": "code",
   "execution_count": 7,
   "metadata": {},
   "outputs": [
    {
     "data": {
      "text/plain": [
       "[Document(metadata={'source': 'C:\\\\F\\\\ml_projexts\\\\chatbot_rag_llm_langchain\\\\content\\\\SaimAhmed_BI.pdf', 'page': 0}, page_content=\"SAIM AHMED SQL DEVELOPER Address: Am Ehrenberg 6, ilmenau, Thüringen Email: saim.ahmed92@hotmail.com Phone: +4915737811565 Github: https://github.com/saimboxer Professional Profile Dedicated software engineer with 3 years of experience specializing in database design, ETL processes, and data analysis. Proficient in Microsoft Power BI, Tableau and QlikView, with a solid foundation in data visualization, data warehousing, and query optimization. Eager to leverage my skills in a work student position to contribute to data-driven decision-making processes. Work History Software Engineer Data Check Limited Developed an end-to-end solution to analyze financial performance across the company's diverse portfolio, creating visualizations with Power BI. Improved data accessibility for stakeholders by creating and managing interactive Power BI dashboards that visualize critical metrics and KPIs, facilitating data-driven strategic planning. Maintained ETL processes and authored complex SQL queries to support the business team and various departments. Built new data pipelines and implemented data quality checks to enhance and extend the capabilities of existing analytics solutions. Automated reporting through Python, saving over 30 hours of weekly reporting time for the department. Created reports tailored to end-user requirements using Crystal Reports and SSRS to develop innovative solutions.\"),\n",
       " Document(metadata={'source': 'C:\\\\F\\\\ml_projexts\\\\chatbot_rag_llm_langchain\\\\content\\\\SaimAhmed_BI.pdf', 'page': 1}, page_content='Software Developer Software Channel Developed over 20 data and reporting procedures from scratch using SQL and Power BI/Tableau/Excel, delivering real-time insights into key performance indicators (KPIs) across various business functions. Worked closely with diverse teams, including business stakeholders and data engineers, to develop optimized ETL workflows and ensure adherence to data quality benchmarks. Performed modifications to existing software systems to rectify errors, enhance interfaces, and optimize performance. Maintained ongoing communication with clients to provide updates on project status, discuss proposals, address technical issues, and facilitate new development initiatives. Education Master in Computer Research and System Engineering  Technische Universität Ilmenau, Germany Additional Skills Tableau , Microsoft Power BI , Qlik , Crystal Reports , IReport , SSRS , Jasper Report Oracle RDBMS , Microsoft SQL Server , Oracle APEX , Oracle Forms , Oracle Reports , PL/SQL HTML , CSS , JavaScript Docker , Git , Team Foundation Server (TFS), JIRA English (Fluent, C1), German (A1)')]"
      ]
     },
     "execution_count": 7,
     "metadata": {},
     "output_type": "execute_result"
    }
   ],
   "source": [
    "cleaned_documents"
   ]
  },
  {
   "cell_type": "code",
   "execution_count": 50,
   "metadata": {},
   "outputs": [
    {
     "name": "stdout",
     "output_type": "stream",
     "text": [
      "Type of 'documents': <class 'list'>\n",
      "Number of documents: 2\n",
      "Type of 'cleaned_documents': <class 'list'>\n",
      "Number of cleaned_documents: 2\n"
     ]
    }
   ],
   "source": [
    "# Print the type of 'documents' and inspect the structure\n",
    "print(f\"Type of 'documents': {type(documents)}\")\n",
    "print(f\"Number of documents: {len(documents)}\")\n",
    "\n",
    "# Print the type of 'documents' and inspect the structure\n",
    "print(f\"Type of 'cleaned_documents': {type(cleaned_documents)}\")\n",
    "print(f\"Number of cleaned_documents: {len(cleaned_documents)}\")"
   ]
  },
  {
   "cell_type": "markdown",
   "metadata": {},
   "source": [
    "#### split the document into chunks."
   ]
  },
  {
   "cell_type": "code",
   "execution_count": 8,
   "metadata": {},
   "outputs": [],
   "source": [
    "# Create an instance of RecursiveCharacterTextSplitter\n",
    "# This splitter will handle the division of text into smaller, more manageable pieces based on character length.\n",
    "text_splitter = RecursiveCharacterTextSplitter()"
   ]
  },
  {
   "cell_type": "code",
   "execution_count": 9,
   "metadata": {},
   "outputs": [
    {
     "data": {
      "text/plain": [
       "[Document(metadata={'source': 'C:\\\\F\\\\ml_projexts\\\\chatbot_rag_llm_langchain\\\\content\\\\SaimAhmed_BI.pdf', 'page': 0}, page_content=\"SAIM AHMED SQL DEVELOPER Address: Am Ehrenberg 6, ilmenau, Thüringen Email: saim.ahmed92@hotmail.com Phone: +4915737811565 Github: https://github.com/saimboxer Professional Profile Dedicated software engineer with 3 years of experience specializing in database design, ETL processes, and data analysis. Proficient in Microsoft Power BI, Tableau and QlikView, with a solid foundation in data visualization, data warehousing, and query optimization. Eager to leverage my skills in a work student position to contribute to data-driven decision-making processes. Work History Software Engineer Data Check Limited Developed an end-to-end solution to analyze financial performance across the company's diverse portfolio, creating visualizations with Power BI. Improved data accessibility for stakeholders by creating and managing interactive Power BI dashboards that visualize critical metrics and KPIs, facilitating data-driven strategic planning. Maintained ETL processes and authored complex SQL queries to support the business team and various departments. Built new data pipelines and implemented data quality checks to enhance and extend the capabilities of existing analytics solutions. Automated reporting through Python, saving over 30 hours of weekly reporting time for the department. Created reports tailored to end-user requirements using Crystal Reports and SSRS to develop innovative solutions.\"),\n",
       " Document(metadata={'source': 'C:\\\\F\\\\ml_projexts\\\\chatbot_rag_llm_langchain\\\\content\\\\SaimAhmed_BI.pdf', 'page': 1}, page_content='Software Developer Software Channel Developed over 20 data and reporting procedures from scratch using SQL and Power BI/Tableau/Excel, delivering real-time insights into key performance indicators (KPIs) across various business functions. Worked closely with diverse teams, including business stakeholders and data engineers, to develop optimized ETL workflows and ensure adherence to data quality benchmarks. Performed modifications to existing software systems to rectify errors, enhance interfaces, and optimize performance. Maintained ongoing communication with clients to provide updates on project status, discuss proposals, address technical issues, and facilitate new development initiatives. Education Master in Computer Research and System Engineering  Technische Universität Ilmenau, Germany Additional Skills Tableau , Microsoft Power BI , Qlik , Crystal Reports , IReport , SSRS , Jasper Report Oracle RDBMS , Microsoft SQL Server , Oracle APEX , Oracle Forms , Oracle Reports , PL/SQL HTML , CSS , JavaScript Docker , Git , Team Foundation Server (TFS), JIRA English (Fluent, C1), German (A1)')]"
      ]
     },
     "execution_count": 9,
     "metadata": {},
     "output_type": "execute_result"
    }
   ],
   "source": [
    "# Split text \n",
    "text = RecursiveCharacterTextSplitter().split_documents(cleaned_documents)\n",
    "text"
   ]
  },
  {
   "cell_type": "markdown",
   "metadata": {},
   "source": [
    "#### Embeddings"
   ]
  },
  {
   "cell_type": "code",
   "execution_count": 10,
   "metadata": {},
   "outputs": [
    {
     "name": "stderr",
     "output_type": "stream",
     "text": [
      "c:\\Users\\saima\\Documents\\virtualenvs\\chatbot_rag_env\\Lib\\site-packages\\langchain_core\\_api\\deprecation.py:139: LangChainDeprecationWarning: The class `HuggingFaceEmbeddings` was deprecated in LangChain 0.2.2 and will be removed in 0.3.0. An updated version of the class exists in the langchain-huggingface package and should be used instead. To use it run `pip install -U langchain-huggingface` and import as `from langchain_huggingface import HuggingFaceEmbeddings`.\n",
      "  warn_deprecated(\n",
      "c:\\Users\\saima\\Documents\\virtualenvs\\chatbot_rag_env\\Lib\\site-packages\\sentence_transformers\\cross_encoder\\CrossEncoder.py:11: TqdmExperimentalWarning: Using `tqdm.autonotebook.tqdm` in notebook mode. Use `tqdm.tqdm` instead to force console mode (e.g. in jupyter console)\n",
      "  from tqdm.autonotebook import tqdm, trange\n"
     ]
    }
   ],
   "source": [
    "# Initialize a HuggingFace embeddings model with normalization\n",
    "embeddings = HuggingFaceEmbeddings(\n",
    "    model_name=\"BAAI/bge-small-en-v1.5\",       # Specify the pre-trained embedding model from Hugging Face.\n",
    "    encode_kwargs={\"normalize_embeddings\": True}  # Apply normalization to ensure embeddings have a unit norm,\n",
    "                                                  # which helps in maintaining consistency in distance calculations\n",
    "                                                  # when comparing embeddings.\n",
    ")\n",
    "\n",
    "# Explanation:\n",
    "# - HuggingFaceEmbeddings: This class from the `langchain` library allows us to use pre-trained models from Hugging Face\n",
    "#   to convert text into numerical embeddings.\n",
    "# - model_name=\"BAAI/bge-small-en-v1.5\": Specifies the name of the pre-trained model to use. Here, we are using\n",
    "#   \"BAAI/bge-small-en-v1.5\", a model designed to generate embeddings for English text.\n",
    "# - encode_kwargs={\"normalize_embeddings\": True}: Additional arguments passed to the encoding function. In this case,\n",
    "#   normalization ensures that all generated embeddings have a unit norm (i.e., their length is 1). This is beneficial\n",
    "#   because it makes the embeddings consistent in scale, which is important for various similarity and distance metrics\n",
    "#   used in tasks like clustering or nearest neighbor search.\n"
   ]
  },
  {
   "cell_type": "markdown",
   "metadata": {},
   "source": [
    "#### Vector Store using FAISS to store embeddings and text chunks."
   ]
  },
  {
   "cell_type": "code",
   "execution_count": 11,
   "metadata": {},
   "outputs": [],
   "source": [
    "# Create a vectorstore\n",
    "vectorstore = FAISS.from_documents(text, embeddings)"
   ]
  },
  {
   "cell_type": "code",
   "execution_count": 12,
   "metadata": {},
   "outputs": [],
   "source": [
    "# Save the documents and embeddings\n",
    "vectorstore.save_local(\"vectorstore.db\")"
   ]
  },
  {
   "cell_type": "markdown",
   "metadata": {},
   "source": [
    "#### Create a Retriever Using the Vector Store"
   ]
  },
  {
   "cell_type": "code",
   "execution_count": 13,
   "metadata": {},
   "outputs": [],
   "source": [
    "# Create retriever\n",
    "retriever = vectorstore.as_retriever()"
   ]
  },
  {
   "cell_type": "markdown",
   "metadata": {},
   "source": [
    "#### Load the Language Model (LLM) and Create a Document Chain"
   ]
  },
  {
   "cell_type": "code",
   "execution_count": 14,
   "metadata": {},
   "outputs": [
    {
     "name": "stderr",
     "output_type": "stream",
     "text": [
      "c:\\Users\\saima\\Documents\\virtualenvs\\chatbot_rag_env\\Lib\\site-packages\\langchain_core\\_api\\deprecation.py:139: LangChainDeprecationWarning: The class `ChatOpenAI` was deprecated in LangChain 0.0.10 and will be removed in 0.3.0. An updated version of the class exists in the langchain-openai package and should be used instead. To use it run `pip install -U langchain-openai` and import as `from langchain_openai import ChatOpenAI`.\n",
      "  warn_deprecated(\n"
     ]
    }
   ],
   "source": [
    "# Load the llm \n",
    "llm = ChatOpenAI(model_name=\"gpt-3.5-turbo\")"
   ]
  },
  {
   "cell_type": "code",
   "execution_count": 24,
   "metadata": {},
   "outputs": [],
   "source": [
    "# Define prompt template\n",
    "template = \"\"\"\n",
    "You are an HR Manager Named Micheala, assisting me to hunt developer who will be help me in growing my buisiness and take care of all projects, candidate should positive minded can do critical thinking, try to give me 2 3 lines short answers after your critical analysis.\n",
    "Use the provided context only to answer the following question:\n",
    "\n",
    "<context>\n",
    "{context}\n",
    "</context>\n",
    "\n",
    "Question: {input}\n",
    "\"\"\""
   ]
  },
  {
   "cell_type": "code",
   "execution_count": 26,
   "metadata": {},
   "outputs": [],
   "source": [
    "# Create a prompt template\n",
    "prompt = ChatPromptTemplate.from_template(template)"
   ]
  },
  {
   "cell_type": "code",
   "execution_count": 27,
   "metadata": {},
   "outputs": [],
   "source": [
    "# Create a chain \n",
    "doc_chain = create_stuff_documents_chain(llm, prompt)\n",
    "chain = create_retrieval_chain(retriever, doc_chain)"
   ]
  },
  {
   "cell_type": "markdown",
   "metadata": {},
   "source": [
    "#### create a retrieval chain by combining the retriever and document chain"
   ]
  },
  {
   "cell_type": "code",
   "execution_count": 30,
   "metadata": {},
   "outputs": [
    {
     "data": {
      "text/plain": [
       "'Saim Ahmed is currently working as a Software Developer at Software Channel, where he is developing data and reporting procedures using SQL and Power BI/Tableau/Excel to provide real-time insights into key performance indicators across various business functions.'"
      ]
     },
     "execution_count": 30,
     "metadata": {},
     "output_type": "execute_result"
    }
   ],
   "source": [
    "# User query \n",
    "response = chain.invoke({\"input\": \"What is he doing now?\"})\n",
    "\n",
    "# Get the Answer only\n",
    "response['answer']"
   ]
  },
  {
   "cell_type": "code",
   "execution_count": null,
   "metadata": {},
   "outputs": [],
   "source": []
  }
 ],
 "metadata": {
  "kernelspec": {
   "display_name": "chatbot_rag_env",
   "language": "python",
   "name": "python3"
  },
  "language_info": {
   "codemirror_mode": {
    "name": "ipython",
    "version": 3
   },
   "file_extension": ".py",
   "mimetype": "text/x-python",
   "name": "python",
   "nbconvert_exporter": "python",
   "pygments_lexer": "ipython3",
   "version": "3.11.4"
  }
 },
 "nbformat": 4,
 "nbformat_minor": 2
}
